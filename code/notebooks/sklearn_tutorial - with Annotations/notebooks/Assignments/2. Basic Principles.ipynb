{
 "cells": [
  {
   "cell_type": "markdown",
   "metadata": {},
   "source": [
    "# Basic Principles"
   ]
  },
  {
   "cell_type": "markdown",
   "metadata": {},
   "source": [
    "### 1. Linear Regression\n",
    "\n",
    "#### Perform a linear fit on the following `x` and `y` data to find coefficients $a$ and $b$ that satisfy the equation $y=ax+b$. Report the coefficients and the fit score, and plot the data and the fit line."
   ]
  },
  {
   "cell_type": "code",
   "execution_count": 1,
   "metadata": {},
   "outputs": [],
   "source": [
    "#Data to fit\n",
    "\n",
    "import numpy as np\n",
    "\n",
    "np.random.seed(0)\n",
    "x = np.linspace(0,10,100)\n",
    "data = 3.7*x - 1.1\n",
    "y = []\n",
    "for number in data:\n",
    "    var = number + 5*np.random.rand()\n",
    "    y.append(var)\n",
    "y = np.asarray(y)"
   ]
  },
  {
   "cell_type": "code",
   "execution_count": null,
   "metadata": {},
   "outputs": [],
   "source": [
    "#Student Response:\n"
   ]
  },
  {
   "cell_type": "markdown",
   "metadata": {},
   "source": [
    "### 2. Classification\n",
    "\n",
    "#### Use the Random Forest Classifier estimator on the same classification problem from the tutorial in which k-nearest-neighbors was used. Explore the documentation for this estimator and set parameters to obtain a reasonable classification. Plot the results. You don't need to know how it works yet, we will go into more detail on Random Forest later in the tutorial."
   ]
  },
  {
   "cell_type": "code",
   "execution_count": null,
   "metadata": {},
   "outputs": [],
   "source": [
    "from sklearn.ensemble import RandomForestClassifier\n",
    "from sklearn import datasets\n",
    "\n",
    "iris = datasets.load_iris()\n",
    "X, y = iris.data, iris.target\n",
    "\n",
    "#Student Reponse:\n"
   ]
  },
  {
   "cell_type": "markdown",
   "metadata": {},
   "source": [
    "### 3. Clustering\n",
    "\n",
    "#### Use Spectral Clustering to cluster the data from the tutorial in which k-means clustering was used. Explore the parameters for Spectral Clustering to improve your results. Plot the results."
   ]
  },
  {
   "cell_type": "code",
   "execution_count": null,
   "metadata": {},
   "outputs": [],
   "source": [
    "from sklearn.cluster import SpectralClustering\n",
    "X, y = iris.data, iris.target\n",
    "\n",
    "#Student Response:\n"
   ]
  },
  {
   "cell_type": "markdown",
   "metadata": {},
   "source": [
    "### 4. Model Validation\n",
    "\n",
    "#### Report the confusion matrix for the Random Forrest classification done in Problem 2.  Compare this to the the confusion matrix for the k nearest neighbor classification. Which is better? What happens if you change the parameters of each fit? Remember to validate the models using `sklearn.model_selection.train_test_split` in order to test their ability to classify new data."
   ]
  },
  {
   "cell_type": "code",
   "execution_count": null,
   "metadata": {},
   "outputs": [],
   "source": []
  }
 ],
 "metadata": {
  "kernelspec": {
   "display_name": "Python 3",
   "language": "python",
   "name": "python3"
  },
  "language_info": {
   "codemirror_mode": {
    "name": "ipython",
    "version": 3
   },
   "file_extension": ".py",
   "mimetype": "text/x-python",
   "name": "python",
   "nbconvert_exporter": "python",
   "pygments_lexer": "ipython3",
   "version": "3.7.1"
  }
 },
 "nbformat": 4,
 "nbformat_minor": 2
}
