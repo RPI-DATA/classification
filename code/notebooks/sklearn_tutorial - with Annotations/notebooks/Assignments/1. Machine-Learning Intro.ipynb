{
 "cells": [
  {
   "cell_type": "markdown",
   "metadata": {},
   "source": [
    "## Motivation\n",
    "\n",
    "The purpose of these assigments is to practice the topics taught in the `scikit-learn` tutorial. Each question corresponds to a key idea or process outlined in the tutorial notebooks. The goal is to expose students to the concepts introduced and motivate them to do more research into the `scikit-learn` documentation to gain a deeper appreciation of the tools available to them (free of charge!). As such, students will need to do some additional research in order to complete these assignments. It is hoped that this will allow them to get valuable practice both in machine learning and independent research.\n",
    "\n",
    "\n",
    "# Machine Learning Intro"
   ]
  },
  {
   "cell_type": "markdown",
   "metadata": {},
   "source": [
    "### 1. What is Machine Learning?\n",
    "\n",
    "#### (a) In your own words, briefly describe machine learning."
   ]
  },
  {
   "cell_type": "markdown",
   "metadata": {},
   "source": [
    "##### Student Response:\n",
    "\n",
    ">"
   ]
  },
  {
   "cell_type": "markdown",
   "metadata": {},
   "source": [
    "#### (b) In your own words, briefly describe Scikit-Learn and its uses."
   ]
  },
  {
   "cell_type": "markdown",
   "metadata": {},
   "source": [
    "##### Student Response:\n",
    "\n",
    ">"
   ]
  },
  {
   "cell_type": "markdown",
   "metadata": {},
   "source": [
    "### 2. Python practice: the Iris Data\n",
    "\n",
    "#### (a) Practice loading the Iris Data set and printing the description of the data set, names of the targets, the targets themselves, the names of the features, and the features themselves."
   ]
  },
  {
   "cell_type": "code",
   "execution_count": 1,
   "metadata": {},
   "outputs": [],
   "source": [
    "#Student Response:\n"
   ]
  },
  {
   "cell_type": "markdown",
   "metadata": {},
   "source": [
    "#### (b) Plot the petal length vs. the petal width for the Iris Data set."
   ]
  },
  {
   "cell_type": "code",
   "execution_count": 31,
   "metadata": {},
   "outputs": [],
   "source": [
    "#Student Response:\n"
   ]
  },
  {
   "cell_type": "code",
   "execution_count": null,
   "metadata": {},
   "outputs": [],
   "source": []
  }
 ],
 "metadata": {
  "kernelspec": {
   "display_name": "Python 3",
   "language": "python",
   "name": "python3"
  },
  "language_info": {
   "codemirror_mode": {
    "name": "ipython",
    "version": 3
   },
   "file_extension": ".py",
   "mimetype": "text/x-python",
   "name": "python",
   "nbconvert_exporter": "python",
   "pygments_lexer": "ipython3",
   "version": "3.7.1"
  }
 },
 "nbformat": 4,
 "nbformat_minor": 2
}
